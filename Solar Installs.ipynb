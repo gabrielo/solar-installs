{
 "metadata": {
  "name": "",
  "signature": "sha256:9856426b38966c8b2c928d0db0a37b5815936768fd21b3da9d04e99a03384e22"
 },
 "nbformat": 3,
 "nbformat_minor": 0,
 "worksheets": [
  {
   "cells": [
    {
     "cell_type": "code",
     "collapsed": false,
     "input": [
      "#Create output dir\n",
      "command = \"mkdir capture\"\n",
      "!$command"
     ],
     "language": "python",
     "metadata": {},
     "outputs": []
    },
    {
     "cell_type": "code",
     "collapsed": false,
     "input": [
      "#Download the 2014 ZIP Code Tabulation Areas (ZCTAs) Boundary File \n",
      "command = \"wget -P capture/ http://www2.census.gov/geo/tiger/GENZ2014/shp/cb_2014_us_zcta510_500k.zip\"\n",
      "!$command"
     ],
     "language": "python",
     "metadata": {},
     "outputs": []
    },
    {
     "cell_type": "code",
     "collapsed": false,
     "input": [
      "#Unzip the file\n",
      "command = \"unzip capture/cb_2014_us_zcta510_500k.zip -d capture/cb_2014_us_zcta510_500k\"\n",
      "!$command"
     ],
     "language": "python",
     "metadata": {},
     "outputs": []
    },
    {
     "cell_type": "markdown",
     "metadata": {},
     "source": [
      "## Create a PostGIS Database, \"cb_2014_us_zcta510_500k\"\n",
      "` $ createdb cb_2014_us_zcta510_500k\n",
      "$ psql -d cb_2014_us_zcta510_500k\n",
      "cb_2014_us_zcta510_500k# CREATE EXTENSION postgis;\n",
      "CREATE EXTENSION`"
     ]
    },
    {
     "cell_type": "markdown",
     "metadata": {},
     "source": [
      "## Load Shapefile into PostGIS\n",
      "` $ shp2pgsql capture/cb_2014_us_zcta510_500k/cb_2014_us_zcta510_500k.shp cb_2014_us_zcta510_500k_4326 | psql -q -d cb_2014_us_zcta510_500k`"
     ]
    },
    {
     "cell_type": "code",
     "collapsed": false,
     "input": [
      "# Open CSV file\n",
      "import array, csv, datetime, math, psycopg2, random\n",
      "from shapely.geometry import *\n",
      "from shapely.wkb import loads\n",
      "\n",
      "def randomPoint(geom):\n",
      "    poly = loads(geom, True)\n",
      "    bbox = poly.bounds\n",
      "    l,b,r,t = bbox\n",
      "    while True:\n",
      "        point = Point(random.uniform(l,r),random.uniform(t,b))\n",
      "        if point is None:\n",
      "            break\n",
      "        if poly.contains(point):\n",
      "            break\n",
      "    return point.__geo_interface__['coordinates']\n",
      "\n",
      "def LonLatToPixelXY(lonlat):\n",
      "    (lon, lat) = lonlat\n",
      "    x = (lon + 180.0) * 256.0 / 360.0\n",
      "    y = 128.0 - math.log(math.tan((lat + 90.0) * math.pi / 360.0)) * 128.0 / math.pi\n",
      "    return [x, y]\n",
      "\n",
      "def LonLatToECEF(lonlat):\n",
      "    (lon, lat) = lonlat\n",
      "    lat = lat * (math.pi/180)\n",
      "    lon = lon * (math.pi/180)\n",
      "    x = math.cos(lat) * math.sin(lon)\n",
      "    y = math.sin(lat)\n",
      "    z = math.cos(lat)*math.cos(lon)\n",
      "    return [x,y,z]\n",
      "\n",
      "def YearMonthDayToEpoch(year, month, day):\n",
      "  return (datetime.datetime(int(year), int(month), int(day)) - datetime.datetime(1970, 1, 1)).total_seconds()\n",
      "\n"
     ],
     "language": "python",
     "metadata": {},
     "outputs": []
    },
    {
     "cell_type": "code",
     "collapsed": false,
     "input": [
      "# Output data in Web Mercator\n",
      "data = []\n",
      "conn = psycopg2.connect(\"dbname=cb_2014_us_zcta510_500k\")\n",
      "cur = conn.cursor()\n",
      "\n",
      "filename = 'capture/openpv-export-201601071059.csv'\n",
      "f = open(filename)\n",
      "reader = csv.reader(f)\n",
      "headers = reader.next()\n",
      "# print headers -- ['Zipcode', 'State', 'Size (kW DC)', 'Cost', 'Date Installed', 'Filters=']\n",
      "for row in reader:\n",
      "    zip_code = row[0]\n",
      "    query = \"SELECT ST_Force2D(geom) FROM cb_2014_us_zcta510_500k_4326 WHERE zcta5ce10 = '%s'\" % zip_code\n",
      "    cur.execute(query)\n",
      "    db_row = cur.fetchone()\n",
      "\n",
      "    if db_row != None:       \n",
      "        x,y = LonLatToPixelXY(randomPoint(db_row[0]))\n",
      "        date_installed = row[4]\n",
      "        month, day, year = date_installed.split('/')\n",
      "        epochtime = YearMonthDayToEpoch(year, month, day)\n",
      "        data += [x,y,epochtime]\n",
      "f.close()\n",
      "cur.close()\n",
      "conn.close()\n",
      "\n",
      "array.array('f', data).tofile(open('solar-installs.bin', 'w'))"
     ],
     "language": "python",
     "metadata": {},
     "outputs": []
    },
    {
     "cell_type": "code",
     "collapsed": false,
     "input": [
      "# Output data in ECEF\n",
      "data = []\n",
      "conn = psycopg2.connect(\"dbname=cb_2014_us_zcta510_500k\")\n",
      "cur = conn.cursor()\n",
      "\n",
      "filename = 'capture/openpv-export-201601071059.csv'\n",
      "f = open(filename)\n",
      "reader = csv.reader(f)\n",
      "headers = reader.next()\n",
      "# print headers -- ['Zipcode', 'State', 'Size (kW DC)', 'Cost', 'Date Installed', 'Filters=']\n",
      "for row in reader:\n",
      "    zip_code = row[0]\n",
      "    query = \"SELECT ST_Force2D(geom) FROM cb_2014_us_zcta510_500k_4326 WHERE zcta5ce10 = '%s'\" % zip_code\n",
      "    cur.execute(query)\n",
      "    db_row = cur.fetchone()\n",
      "\n",
      "    if db_row != None:       \n",
      "        x,y,z = LonLatToECEF(randomPoint(db_row[0]))\n",
      "        date_installed = row[4]\n",
      "        month, day, year = date_installed.split('/')\n",
      "        epochtime = YearMonthDayToEpoch(year, month, day)\n",
      "        data += [x,y,z,epochtime]\n",
      "f.close()\n",
      "cur.close()\n",
      "conn.close()\n",
      "\n",
      "array.array('f', data).tofile(open('solar-installs-ecef.bin', 'w'))"
     ],
     "language": "python",
     "metadata": {},
     "outputs": []
    },
    {
     "cell_type": "code",
     "collapsed": false,
     "input": [],
     "language": "python",
     "metadata": {},
     "outputs": []
    }
   ],
   "metadata": {}
  }
 ]
}