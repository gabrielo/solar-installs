{
 "metadata": {
  "name": "",
  "signature": "sha256:86ee4f9e1648c5d1cab71daef29530d4b0cd3a0b707ee4999376ee3616fc408d"
 },
 "nbformat": 3,
 "nbformat_minor": 0,
 "worksheets": [
  {
   "cells": [
    {
     "cell_type": "code",
     "collapsed": false,
     "input": [
      "#Download the 2014 ZIP Code Tabulation Areas (ZCTAs) Boundary File \n",
      "command = \"wget -P capture/ http://www2.census.gov/geo/tiger/GENZ2014/shp/cb_2014_us_zcta510_500k.zip\"\n",
      "!$command"
     ],
     "language": "python",
     "metadata": {},
     "outputs": [
      {
       "output_type": "stream",
       "stream": "stdout",
       "text": [
        "--2016-01-08 08:42:04--  http://www2.census.gov/geo/tiger/GENZ2014/shp/cb_2014_us_zcta510_500k.zip\r\n",
        "Resolving www2.census.gov... "
       ]
      },
      {
       "output_type": "stream",
       "stream": "stdout",
       "text": [
        "184.51.126.75, 184.51.126.82, 2600:807:320:308::3f58:64a8, ...\r\n",
        "Connecting to www2.census.gov|184.51.126.75|:80... connected.\r\n",
        "HTTP request sent, awaiting response... "
       ]
      },
      {
       "output_type": "stream",
       "stream": "stdout",
       "text": [
        "200 OK\r\n",
        "Length: 67558284 (64M) [application/zip]\r\n",
        "Saving to: 'capture/cb_2014_us_zcta510_500k.zip'\r\n",
        "\r\n",
        "\r",
        "          cb_2014_u   0%[                      ]       0  --.-KB/s             "
       ]
      },
      {
       "output_type": "stream",
       "stream": "stdout",
       "text": [
        "\r",
        "         cb_2014_us   0%[                      ] 440.92K  2.14MB/s             "
       ]
      },
      {
       "output_type": "stream",
       "stream": "stdout",
       "text": [
        "\r",
        "        cb_2014_us_   1%[                      ] 812.82K  1.98MB/s             "
       ]
      },
      {
       "output_type": "stream",
       "stream": "stdout",
       "text": [
        "\r",
        "       cb_2014_us_z   1%[                      ]   1.16M  1.92MB/s             "
       ]
      },
      {
       "output_type": "stream",
       "stream": "stdout",
       "text": [
        "\r",
        "      cb_2014_us_zc   2%[                      ]   1.52M  1.90MB/s             "
       ]
      },
      {
       "output_type": "stream",
       "stream": "stdout",
       "text": [
        "\r",
        "     cb_2014_us_zct   2%[                      ]   1.89M  1.88MB/s             "
       ]
      },
      {
       "output_type": "stream",
       "stream": "stdout",
       "text": [
        "\r",
        "    cb_2014_us_zcta   3%[                      ]   2.25M  1.87MB/s             "
       ]
      },
      {
       "output_type": "stream",
       "stream": "stdout",
       "text": [
        "\r",
        "   cb_2014_us_zcta5   4%[                      ]   2.60M  1.85MB/s             "
       ]
      },
      {
       "output_type": "stream",
       "stream": "stdout",
       "text": [
        "\r",
        "  cb_2014_us_zcta51   4%[>                     ]   2.98M  1.86MB/s             "
       ]
      },
      {
       "output_type": "stream",
       "stream": "stdout",
       "text": [
        "\r",
        " cb_2014_us_zcta510   5%[>                     ]   3.35M  1.85MB/s             "
       ]
      },
      {
       "output_type": "stream",
       "stream": "stdout",
       "text": [
        "\r",
        "cb_2014_us_zcta510_   5%[>                     ]   3.71M  1.85MB/s             "
       ]
      },
      {
       "output_type": "stream",
       "stream": "stdout",
       "text": [
        "\r",
        "b_2014_us_zcta510_5   6%[>                     ]   4.04M  1.83MB/s             "
       ]
      },
      {
       "output_type": "stream",
       "stream": "stdout",
       "text": [
        "\r",
        "_2014_us_zcta510_50   6%[>                     ]   4.44M  1.84MB/s             "
       ]
      },
      {
       "output_type": "stream",
       "stream": "stdout",
       "text": [
        "\r",
        "2014_us_zcta510_500   7%[>                     ]   4.81M  1.84MB/s             "
       ]
      },
      {
       "output_type": "stream",
       "stream": "stdout",
       "text": [
        "\r",
        "014_us_zcta510_500k   8%[>                     ]   5.17M  1.84MB/s             "
       ]
      },
      {
       "output_type": "stream",
       "stream": "stdout",
       "text": [
        "\r",
        "14_us_zcta510_500k.   8%[>                     ]   5.53M  1.83MB/s   eta 32s   "
       ]
      },
      {
       "output_type": "stream",
       "stream": "stdout",
       "text": [
        "\r",
        "4_us_zcta510_500k.z   9%[=>                    ]   5.90M  1.82MB/s   eta 32s   "
       ]
      },
      {
       "output_type": "stream",
       "stream": "stdout",
       "text": [
        "\r",
        "_us_zcta510_500k.zi   9%[=>                    ]   6.27M  1.82MB/s   eta 32s   "
       ]
      },
      {
       "output_type": "stream",
       "stream": "stdout",
       "text": [
        "\r",
        "us_zcta510_500k.zip  10%[=>                    ]   6.64M  1.81MB/s   eta 32s   "
       ]
      },
      {
       "output_type": "stream",
       "stream": "stdout",
       "text": [
        "\r",
        "s_zcta510_500k.zip   10%[=>                    ]   7.00M  1.81MB/s   eta 32s   "
       ]
      },
      {
       "output_type": "stream",
       "stream": "stdout",
       "text": [
        "\r",
        "_zcta510_500k.zip    11%[=>                    ]   7.37M  1.82MB/s   eta 31s   "
       ]
      },
      {
       "output_type": "stream",
       "stream": "stdout",
       "text": [
        "\r",
        "zcta510_500k.zip     11%[=>                    ]   7.73M  1.81MB/s   eta 31s   "
       ]
      },
      {
       "output_type": "stream",
       "stream": "stdout",
       "text": [
        "\r",
        "cta510_500k.zip      12%[=>                    ]   8.10M  1.82MB/s   eta 31s   "
       ]
      },
      {
       "output_type": "stream",
       "stream": "stdout",
       "text": [
        "\r",
        "ta510_500k.zip       13%[=>                    ]   8.46M  1.82MB/s   eta 31s   "
       ]
      },
      {
       "output_type": "stream",
       "stream": "stdout",
       "text": [
        "\r",
        "a510_500k.zip        13%[==>                   ]   8.83M  1.82MB/s   eta 31s   "
       ]
      },
      {
       "output_type": "stream",
       "stream": "stdout",
       "text": [
        "\r",
        "510_500k.zip         14%[==>                   ]   9.18M  1.81MB/s   eta 30s   "
       ]
      },
      {
       "output_type": "stream",
       "stream": "stdout",
       "text": [
        "\r",
        "10_500k.zip          14%[==>                   ]   9.54M  1.81MB/s   eta 30s   "
       ]
      },
      {
       "output_type": "stream",
       "stream": "stdout",
       "text": [
        "\r",
        "0_500k.zip           15%[==>                   ]   9.92M  1.83MB/s   eta 30s   "
       ]
      },
      {
       "output_type": "stream",
       "stream": "stdout",
       "text": [
        "\r",
        "_500k.zip            15%[==>                   ]  10.28M  1.82MB/s   eta 30s   "
       ]
      },
      {
       "output_type": "stream",
       "stream": "stdout",
       "text": [
        "\r",
        "500k.zip             16%[==>                   ]  10.65M  1.82MB/s   eta 30s   "
       ]
      },
      {
       "output_type": "stream",
       "stream": "stdout",
       "text": [
        "\r",
        "00k.zip              17%[==>                   ]  11.01M  1.81MB/s   eta 29s   "
       ]
      },
      {
       "output_type": "stream",
       "stream": "stdout",
       "text": [
        "\r",
        "0k.zip               17%[==>                   ]  11.38M  1.81MB/s   eta 29s   "
       ]
      },
      {
       "output_type": "stream",
       "stream": "stdout",
       "text": [
        "\r",
        "k.zip                18%[===>                  ]  11.74M  1.82MB/s   eta 29s   "
       ]
      },
      {
       "output_type": "stream",
       "stream": "stdout",
       "text": [
        "\r",
        ".zip                 18%[===>                  ]  12.11M  1.82MB/s   eta 29s   "
       ]
      },
      {
       "output_type": "stream",
       "stream": "stdout",
       "text": [
        "\r",
        "zip                  19%[===>                  ]  12.47M  1.82MB/s   eta 29s   "
       ]
      },
      {
       "output_type": "stream",
       "stream": "stdout",
       "text": [
        "\r",
        "ip                   19%[===>                  ]  12.83M  1.81MB/s   eta 28s   "
       ]
      },
      {
       "output_type": "stream",
       "stream": "stdout",
       "text": [
        "\r",
        "p                    20%[===>                  ]  13.20M  1.81MB/s   eta 28s   "
       ]
      },
      {
       "output_type": "stream",
       "stream": "stdout",
       "text": [
        "\r",
        "                     21%[===>                  ]  13.57M  1.82MB/s   eta 28s   "
       ]
      },
      {
       "output_type": "stream",
       "stream": "stdout",
       "text": [
        "\r",
        "                  c  21%[===>                  ]  13.92M  1.81MB/s   eta 28s   "
       ]
      },
      {
       "output_type": "stream",
       "stream": "stdout",
       "text": [
        "\r",
        "                 cb  22%[===>                  ]  14.29M  1.82MB/s   eta 28s   "
       ]
      },
      {
       "output_type": "stream",
       "stream": "stdout",
       "text": [
        "\r",
        "                cb_  22%[====>                 ]  14.66M  1.82MB/s   eta 27s   "
       ]
      },
      {
       "output_type": "stream",
       "stream": "stdout",
       "text": [
        "\r",
        "               cb_2  23%[====>                 ]  15.02M  1.82MB/s   eta 27s   "
       ]
      },
      {
       "output_type": "stream",
       "stream": "stdout",
       "text": [
        "\r",
        "              cb_20  23%[====>                 ]  15.39M  1.82MB/s   eta 27s   "
       ]
      },
      {
       "output_type": "stream",
       "stream": "stdout",
       "text": [
        "\r",
        "             cb_201  24%[====>                 ]  15.75M  1.81MB/s   eta 27s   "
       ]
      },
      {
       "output_type": "stream",
       "stream": "stdout",
       "text": [
        "\r",
        "            cb_2014  25%[====>                 ]  16.11M  1.81MB/s   eta 27s   "
       ]
      },
      {
       "output_type": "stream",
       "stream": "stdout",
       "text": [
        "\r",
        "           cb_2014_  25%[====>                 ]  16.48M  1.82MB/s   eta 26s   "
       ]
      },
      {
       "output_type": "stream",
       "stream": "stdout",
       "text": [
        "\r",
        "          cb_2014_u  26%[====>                 ]  16.84M  1.81MB/s   eta 26s   "
       ]
      },
      {
       "output_type": "stream",
       "stream": "stdout",
       "text": [
        "\r",
        "         cb_2014_us  26%[====>                 ]  17.20M  1.81MB/s   eta 26s   "
       ]
      },
      {
       "output_type": "stream",
       "stream": "stdout",
       "text": [
        "\r",
        "        cb_2014_us_  27%[====>                 ]  17.55M  1.81MB/s   eta 26s   "
       ]
      },
      {
       "output_type": "stream",
       "stream": "stdout",
       "text": [
        "\r",
        "       cb_2014_us_z  27%[=====>                ]  17.93M  1.81MB/s   eta 26s   "
       ]
      },
      {
       "output_type": "stream",
       "stream": "stdout",
       "text": [
        "\r",
        "      cb_2014_us_zc  28%[=====>                ]  18.30M  1.82MB/s   eta 25s   "
       ]
      },
      {
       "output_type": "stream",
       "stream": "stdout",
       "text": [
        "\r",
        "     cb_2014_us_zct  28%[=====>                ]  18.67M  1.82MB/s   eta 25s   "
       ]
      },
      {
       "output_type": "stream",
       "stream": "stdout",
       "text": [
        "\r",
        "    cb_2014_us_zcta  29%[=====>                ]  19.02M  1.81MB/s   eta 25s   "
       ]
      },
      {
       "output_type": "stream",
       "stream": "stdout",
       "text": [
        "\r",
        "   cb_2014_us_zcta5  30%[=====>                ]  19.39M  1.82MB/s   eta 25s   "
       ]
      },
      {
       "output_type": "stream",
       "stream": "stdout",
       "text": [
        "\r",
        "  cb_2014_us_zcta51  30%[=====>                ]  19.76M  1.82MB/s   eta 25s   "
       ]
      },
      {
       "output_type": "stream",
       "stream": "stdout",
       "text": [
        "\r",
        " cb_2014_us_zcta510  31%[=====>                ]  20.12M  1.81MB/s   eta 24s   "
       ]
      },
      {
       "output_type": "stream",
       "stream": "stdout",
       "text": [
        "\r",
        "cb_2014_us_zcta510_  31%[=====>                ]  20.48M  1.82MB/s   eta 24s   "
       ]
      },
      {
       "output_type": "stream",
       "stream": "stdout",
       "text": [
        "\r",
        "b_2014_us_zcta510_5  32%[======>               ]  20.85M  1.82MB/s   eta 24s   "
       ]
      },
      {
       "output_type": "stream",
       "stream": "stdout",
       "text": [
        "\r",
        "_2014_us_zcta510_50  32%[======>               ]  21.21M  1.82MB/s   eta 24s   "
       ]
      },
      {
       "output_type": "stream",
       "stream": "stdout",
       "text": [
        "\r",
        "2014_us_zcta510_500  33%[======>               ]  21.57M  1.82MB/s   eta 24s   "
       ]
      },
      {
       "output_type": "stream",
       "stream": "stdout",
       "text": [
        "\r",
        "014_us_zcta510_500k  34%[======>               ]  21.94M  1.81MB/s   eta 23s   "
       ]
      },
      {
       "output_type": "stream",
       "stream": "stdout",
       "text": [
        "\r",
        "14_us_zcta510_500k.  34%[======>               ]  22.30M  1.82MB/s   eta 23s   "
       ]
      },
      {
       "output_type": "stream",
       "stream": "stdout",
       "text": [
        "\r",
        "4_us_zcta510_500k.z  35%[======>               ]  22.67M  1.82MB/s   eta 23s   "
       ]
      },
      {
       "output_type": "stream",
       "stream": "stdout",
       "text": [
        "\r",
        "_us_zcta510_500k.zi  35%[======>               ]  23.03M  1.82MB/s   eta 23s   "
       ]
      },
      {
       "output_type": "stream",
       "stream": "stdout",
       "text": [
        "\r",
        "us_zcta510_500k.zip  36%[======>               ]  23.40M  1.81MB/s   eta 23s   "
       ]
      },
      {
       "output_type": "stream",
       "stream": "stdout",
       "text": [
        "\r",
        "s_zcta510_500k.zip   36%[=======>              ]  23.76M  1.82MB/s   eta 22s   "
       ]
      },
      {
       "output_type": "stream",
       "stream": "stdout",
       "text": [
        "\r",
        "_zcta510_500k.zip    37%[=======>              ]  24.12M  1.81MB/s   eta 22s   "
       ]
      },
      {
       "output_type": "stream",
       "stream": "stdout",
       "text": [
        "\r",
        "zcta510_500k.zip     38%[=======>              ]  24.49M  1.82MB/s   eta 22s   "
       ]
      },
      {
       "output_type": "stream",
       "stream": "stdout",
       "text": [
        "\r",
        "cta510_500k.zip      38%[=======>              ]  24.85M  1.81MB/s   eta 22s   "
       ]
      },
      {
       "output_type": "stream",
       "stream": "stdout",
       "text": [
        "\r",
        "ta510_500k.zip       39%[=======>              ]  25.22M  1.82MB/s   eta 22s   "
       ]
      },
      {
       "output_type": "stream",
       "stream": "stdout",
       "text": [
        "\r",
        "a510_500k.zip        39%[=======>              ]  25.59M  1.82MB/s   eta 21s   "
       ]
      },
      {
       "output_type": "stream",
       "stream": "stdout",
       "text": [
        "\r",
        "510_500k.zip         40%[=======>              ]  25.95M  1.82MB/s   eta 21s   "
       ]
      },
      {
       "output_type": "stream",
       "stream": "stdout",
       "text": [
        "\r",
        "10_500k.zip          40%[=======>              ]  26.32M  1.81MB/s   eta 21s   "
       ]
      },
      {
       "output_type": "stream",
       "stream": "stdout",
       "text": [
        "\r",
        "0_500k.zip           41%[========>             ]  26.68M  1.82MB/s   eta 21s   "
       ]
      },
      {
       "output_type": "stream",
       "stream": "stdout",
       "text": [
        "\r",
        "_500k.zip            41%[========>             ]  27.02M  1.81MB/s   eta 21s   "
       ]
      },
      {
       "output_type": "stream",
       "stream": "stdout",
       "text": [
        "\r",
        "500k.zip             42%[========>             ]  27.39M  1.81MB/s   eta 20s   "
       ]
      },
      {
       "output_type": "stream",
       "stream": "stdout",
       "text": [
        "\r",
        "00k.zip              43%[========>             ]  27.77M  1.82MB/s   eta 20s   "
       ]
      },
      {
       "output_type": "stream",
       "stream": "stdout",
       "text": [
        "\r",
        "0k.zip               43%[========>             ]  28.13M  1.81MB/s   eta 20s   "
       ]
      },
      {
       "output_type": "stream",
       "stream": "stdout",
       "text": [
        "\r",
        "k.zip                44%[========>             ]  28.50M  1.82MB/s   eta 20s   "
       ]
      },
      {
       "output_type": "stream",
       "stream": "stdout",
       "text": [
        "\r",
        ".zip                 44%[========>             ]  28.86M  1.81MB/s   eta 20s   "
       ]
      },
      {
       "output_type": "stream",
       "stream": "stdout",
       "text": [
        "\r",
        "zip                  45%[========>             ]  29.22M  1.82MB/s   eta 19s   "
       ]
      },
      {
       "output_type": "stream",
       "stream": "stdout",
       "text": [
        "\r",
        "ip                   45%[=========>            ]  29.59M  1.82MB/s   eta 19s   "
       ]
      },
      {
       "output_type": "stream",
       "stream": "stdout",
       "text": [
        "\r",
        "p                    46%[=========>            ]  29.95M  1.82MB/s   eta 19s   "
       ]
      },
      {
       "output_type": "stream",
       "stream": "stdout",
       "text": [
        "\r",
        "                     47%[=========>            ]  30.31M  1.82MB/s   eta 19s   "
       ]
      },
      {
       "output_type": "stream",
       "stream": "stdout",
       "text": [
        "\r",
        "                  c  47%[=========>            ]  30.68M  1.82MB/s   eta 19s   "
       ]
      },
      {
       "output_type": "stream",
       "stream": "stdout",
       "text": [
        "\r",
        "                 cb  48%[=========>            ]  31.04M  1.82MB/s   eta 18s   "
       ]
      },
      {
       "output_type": "stream",
       "stream": "stdout",
       "text": [
        "\r",
        "                cb_  48%[=========>            ]  31.40M  1.82MB/s   eta 18s   "
       ]
      },
      {
       "output_type": "stream",
       "stream": "stdout",
       "text": [
        "\r",
        "               cb_2  49%[=========>            ]  31.77M  1.81MB/s   eta 18s   "
       ]
      },
      {
       "output_type": "stream",
       "stream": "stdout",
       "text": [
        "\r",
        "              cb_20  49%[=========>            ]  32.13M  1.82MB/s   eta 18s   "
       ]
      },
      {
       "output_type": "stream",
       "stream": "stdout",
       "text": [
        "\r",
        "             cb_201  50%[==========>           ]  32.49M  1.81MB/s   eta 18s   "
       ]
      },
      {
       "output_type": "stream",
       "stream": "stdout",
       "text": [
        "\r",
        "            cb_2014  51%[==========>           ]  32.86M  1.81MB/s   eta 17s   "
       ]
      },
      {
       "output_type": "stream",
       "stream": "stdout",
       "text": [
        "\r",
        "           cb_2014_  51%[==========>           ]  33.23M  1.81MB/s   eta 17s   "
       ]
      },
      {
       "output_type": "stream",
       "stream": "stdout",
       "text": [
        "\r",
        "          cb_2014_u  52%[==========>           ]  33.59M  1.81MB/s   eta 17s   "
       ]
      },
      {
       "output_type": "stream",
       "stream": "stdout",
       "text": [
        "\r",
        "         cb_2014_us  52%[==========>           ]  33.96M  1.82MB/s   eta 17s   "
       ]
      },
      {
       "output_type": "stream",
       "stream": "stdout",
       "text": [
        "\r",
        "        cb_2014_us_  53%[==========>           ]  34.32M  1.82MB/s   eta 17s   "
       ]
      },
      {
       "output_type": "stream",
       "stream": "stdout",
       "text": [
        "\r",
        "       cb_2014_us_z  53%[==========>           ]  34.69M  1.81MB/s   eta 16s   "
       ]
      },
      {
       "output_type": "stream",
       "stream": "stdout",
       "text": [
        "\r",
        "      cb_2014_us_zc  54%[==========>           ]  35.05M  1.81MB/s   eta 16s   "
       ]
      },
      {
       "output_type": "stream",
       "stream": "stdout",
       "text": [
        "\r",
        "     cb_2014_us_zct  54%[===========>          ]  35.41M  1.81MB/s   eta 16s   "
       ]
      },
      {
       "output_type": "stream",
       "stream": "stdout",
       "text": [
        "\r",
        "    cb_2014_us_zcta  55%[===========>          ]  35.78M  1.81MB/s   eta 16s   "
       ]
      },
      {
       "output_type": "stream",
       "stream": "stdout",
       "text": [
        "\r",
        "   cb_2014_us_zcta5  56%[===========>          ]  36.14M  1.81MB/s   eta 16s   "
       ]
      },
      {
       "output_type": "stream",
       "stream": "stdout",
       "text": [
        "\r",
        "  cb_2014_us_zcta51  56%[===========>          ]  36.51M  1.82MB/s   eta 15s   "
       ]
      },
      {
       "output_type": "stream",
       "stream": "stdout",
       "text": [
        "\r",
        " cb_2014_us_zcta510  57%[===========>          ]  36.87M  1.81MB/s   eta 15s   "
       ]
      },
      {
       "output_type": "stream",
       "stream": "stdout",
       "text": [
        "\r",
        "cb_2014_us_zcta510_  57%[===========>          ]  37.24M  1.81MB/s   eta 15s   "
       ]
      },
      {
       "output_type": "stream",
       "stream": "stdout",
       "text": [
        "\r",
        "b_2014_us_zcta510_5  58%[===========>          ]  37.60M  1.82MB/s   eta 15s   "
       ]
      },
      {
       "output_type": "stream",
       "stream": "stdout",
       "text": [
        "\r",
        "_2014_us_zcta510_50  58%[===========>          ]  37.96M  1.81MB/s   eta 15s   "
       ]
      },
      {
       "output_type": "stream",
       "stream": "stdout",
       "text": [
        "\r",
        "2014_us_zcta510_500  59%[============>         ]  38.33M  1.85MB/s   eta 14s   "
       ]
      },
      {
       "output_type": "stream",
       "stream": "stdout",
       "text": [
        "\r",
        "014_us_zcta510_500k  60%[============>         ]  38.69M  1.81MB/s   eta 14s   "
       ]
      },
      {
       "output_type": "stream",
       "stream": "stdout",
       "text": [
        "\r",
        "14_us_zcta510_500k.  60%[============>         ]  39.05M  1.82MB/s   eta 14s   "
       ]
      },
      {
       "output_type": "stream",
       "stream": "stdout",
       "text": [
        "\r",
        "4_us_zcta510_500k.z  61%[============>         ]  39.42M  1.82MB/s   eta 14s   "
       ]
      },
      {
       "output_type": "stream",
       "stream": "stdout",
       "text": [
        "\r",
        "_us_zcta510_500k.zi  61%[============>         ]  39.78M  1.81MB/s   eta 14s   "
       ]
      },
      {
       "output_type": "stream",
       "stream": "stdout",
       "text": [
        "\r",
        "us_zcta510_500k.zip  62%[============>         ]  40.15M  1.82MB/s   eta 13s   "
       ]
      },
      {
       "output_type": "stream",
       "stream": "stdout",
       "text": [
        "\r",
        "s_zcta510_500k.zip   62%[============>         ]  40.48M  1.80MB/s   eta 13s   "
       ]
      },
      {
       "output_type": "stream",
       "stream": "stdout",
       "text": [
        "\r",
        "_zcta510_500k.zip    63%[============>         ]  40.89M  1.81MB/s   eta 13s   "
       ]
      },
      {
       "output_type": "stream",
       "stream": "stdout",
       "text": [
        "\r",
        "zcta510_500k.zip     64%[=============>        ]  41.27M  1.81MB/s   eta 13s   "
       ]
      },
      {
       "output_type": "stream",
       "stream": "stdout",
       "text": [
        "\r",
        "cta510_500k.zip      64%[=============>        ]  41.64M  1.81MB/s   eta 13s   "
       ]
      },
      {
       "output_type": "stream",
       "stream": "stdout",
       "text": [
        "\r",
        "ta510_500k.zip       65%[=============>        ]  42.01M  1.82MB/s   eta 12s   "
       ]
      },
      {
       "output_type": "stream",
       "stream": "stdout",
       "text": [
        "\r",
        "a510_500k.zip        65%[=============>        ]  42.35M  1.81MB/s   eta 12s   "
       ]
      },
      {
       "output_type": "stream",
       "stream": "stdout",
       "text": [
        "\r",
        "510_500k.zip         66%[=============>        ]  42.73M  1.82MB/s   eta 12s   "
       ]
      },
      {
       "output_type": "stream",
       "stream": "stdout",
       "text": [
        "\r",
        "10_500k.zip          66%[=============>        ]  43.10M  1.82MB/s   eta 12s   "
       ]
      },
      {
       "output_type": "stream",
       "stream": "stdout",
       "text": [
        "\r",
        "0_500k.zip           67%[=============>        ]  43.46M  1.81MB/s   eta 12s   "
       ]
      },
      {
       "output_type": "stream",
       "stream": "stdout",
       "text": [
        "\r",
        "_500k.zip            68%[=============>        ]  43.82M  1.81MB/s   eta 11s   "
       ]
      },
      {
       "output_type": "stream",
       "stream": "stdout",
       "text": [
        "\r",
        "500k.zip             68%[==============>       ]  44.19M  1.81MB/s   eta 11s   "
       ]
      },
      {
       "output_type": "stream",
       "stream": "stdout",
       "text": [
        "\r",
        "00k.zip              69%[==============>       ]  44.57M  1.81MB/s   eta 11s   "
       ]
      },
      {
       "output_type": "stream",
       "stream": "stdout",
       "text": [
        "\r",
        "0k.zip               69%[==============>       ]  44.94M  1.81MB/s   eta 11s   "
       ]
      },
      {
       "output_type": "stream",
       "stream": "stdout",
       "text": [
        "\r",
        "k.zip                70%[==============>       ]  45.31M  1.81MB/s   eta 11s   "
       ]
      },
      {
       "output_type": "stream",
       "stream": "stdout",
       "text": [
        "\r",
        ".zip                 70%[==============>       ]  45.68M  1.82MB/s   eta 10s   "
       ]
      },
      {
       "output_type": "stream",
       "stream": "stdout",
       "text": [
        "\r",
        "zip                  71%[==============>       ]  46.05M  1.82MB/s   eta 10s   "
       ]
      },
      {
       "output_type": "stream",
       "stream": "stdout",
       "text": [
        "\r",
        "ip                   72%[==============>       ]  46.42M  1.82MB/s   eta 10s   "
       ]
      },
      {
       "output_type": "stream",
       "stream": "stdout",
       "text": [
        "\r",
        "p                    72%[==============>       ]  46.79M  1.82MB/s   eta 10s   "
       ]
      },
      {
       "output_type": "stream",
       "stream": "stdout",
       "text": [
        "\r",
        "                     73%[===============>      ]  47.15M  1.82MB/s   eta 10s   "
       ]
      },
      {
       "output_type": "stream",
       "stream": "stdout",
       "text": [
        "\r",
        "                  c  73%[===============>      ]  47.51M  1.82MB/s   eta 9s    "
       ]
      },
      {
       "output_type": "stream",
       "stream": "stdout",
       "text": [
        "\r",
        "                 cb  74%[===============>      ]  47.87M  1.81MB/s   eta 9s    "
       ]
      },
      {
       "output_type": "stream",
       "stream": "stdout",
       "text": [
        "\r",
        "                cb_  74%[===============>      ]  48.24M  1.82MB/s   eta 9s    "
       ]
      },
      {
       "output_type": "stream",
       "stream": "stdout",
       "text": [
        "\r",
        "               cb_2  75%[===============>      ]  48.60M  1.81MB/s   eta 9s    "
       ]
      },
      {
       "output_type": "stream",
       "stream": "stdout",
       "text": [
        "\r",
        "              cb_20  76%[===============>      ]  48.98M  1.82MB/s   eta 9s    "
       ]
      },
      {
       "output_type": "stream",
       "stream": "stdout",
       "text": [
        "\r",
        "             cb_201  76%[===============>      ]  49.35M  1.82MB/s   eta 8s    "
       ]
      },
      {
       "output_type": "stream",
       "stream": "stdout",
       "text": [
        "\r",
        "            cb_2014  77%[===============>      ]  49.71M  1.82MB/s   eta 8s    "
       ]
      },
      {
       "output_type": "stream",
       "stream": "stdout",
       "text": [
        "\r",
        "           cb_2014_  77%[================>     ]  50.07M  1.81MB/s   eta 8s    "
       ]
      },
      {
       "output_type": "stream",
       "stream": "stdout",
       "text": [
        "\r",
        "          cb_2014_u  78%[================>     ]  50.44M  1.82MB/s   eta 8s    "
       ]
      },
      {
       "output_type": "stream",
       "stream": "stdout",
       "text": [
        "\r",
        "         cb_2014_us  78%[================>     ]  50.80M  1.82MB/s   eta 8s    "
       ]
      },
      {
       "output_type": "stream",
       "stream": "stdout",
       "text": [
        "\r",
        "        cb_2014_us_  79%[================>     ]  51.17M  1.82MB/s   eta 7s    "
       ]
      },
      {
       "output_type": "stream",
       "stream": "stdout",
       "text": [
        "\r",
        "       cb_2014_us_z  79%[================>     ]  51.53M  1.81MB/s   eta 7s    "
       ]
      },
      {
       "output_type": "stream",
       "stream": "stdout",
       "text": [
        "\r",
        "      cb_2014_us_zc  80%[================>     ]  51.90M  1.81MB/s   eta 7s    "
       ]
      },
      {
       "output_type": "stream",
       "stream": "stdout",
       "text": [
        "\r",
        "     cb_2014_us_zct  81%[================>     ]  52.26M  1.82MB/s   eta 7s    "
       ]
      },
      {
       "output_type": "stream",
       "stream": "stdout",
       "text": [
        "\r",
        "    cb_2014_us_zcta  81%[================>     ]  52.62M  1.82MB/s   eta 7s    "
       ]
      },
      {
       "output_type": "stream",
       "stream": "stdout",
       "text": [
        "\r",
        "   cb_2014_us_zcta5  82%[=================>    ]  52.99M  1.82MB/s   eta 6s    "
       ]
      },
      {
       "output_type": "stream",
       "stream": "stdout",
       "text": [
        "\r",
        "  cb_2014_us_zcta51  82%[=================>    ]  53.35M  1.81MB/s   eta 6s    "
       ]
      },
      {
       "output_type": "stream",
       "stream": "stdout",
       "text": [
        "\r",
        " cb_2014_us_zcta510  83%[=================>    ]  53.72M  1.82MB/s   eta 6s    "
       ]
      },
      {
       "output_type": "stream",
       "stream": "stdout",
       "text": [
        "\r",
        "cb_2014_us_zcta510_  83%[=================>    ]  54.08M  1.82MB/s   eta 6s    "
       ]
      },
      {
       "output_type": "stream",
       "stream": "stdout",
       "text": [
        "\r",
        "b_2014_us_zcta510_5  84%[=================>    ]  54.44M  1.82MB/s   eta 6s    "
       ]
      },
      {
       "output_type": "stream",
       "stream": "stdout",
       "text": [
        "\r",
        "_2014_us_zcta510_50  85%[=================>    ]  54.81M  1.82MB/s   eta 5s    "
       ]
      },
      {
       "output_type": "stream",
       "stream": "stdout",
       "text": [
        "\r",
        "2014_us_zcta510_500  85%[=================>    ]  55.17M  1.81MB/s   eta 5s    "
       ]
      },
      {
       "output_type": "stream",
       "stream": "stdout",
       "text": [
        "\r",
        "014_us_zcta510_500k  86%[=================>    ]  55.53M  1.82MB/s   eta 5s    "
       ]
      },
      {
       "output_type": "stream",
       "stream": "stdout",
       "text": [
        "\r",
        "14_us_zcta510_500k.  86%[==================>   ]  55.91M  1.81MB/s   eta 5s    "
       ]
      },
      {
       "output_type": "stream",
       "stream": "stdout",
       "text": [
        "\r",
        "4_us_zcta510_500k.z  87%[==================>   ]  56.28M  1.82MB/s   eta 5s    "
       ]
      },
      {
       "output_type": "stream",
       "stream": "stdout",
       "text": [
        "\r",
        "_us_zcta510_500k.zi  87%[==================>   ]  56.64M  1.81MB/s   eta 4s    "
       ]
      },
      {
       "output_type": "stream",
       "stream": "stdout",
       "text": [
        "\r",
        "us_zcta510_500k.zip  88%[==================>   ]  57.01M  1.82MB/s   eta 4s    "
       ]
      },
      {
       "output_type": "stream",
       "stream": "stdout",
       "text": [
        "\r",
        "s_zcta510_500k.zip   89%[==================>   ]  57.37M  1.82MB/s   eta 4s    "
       ]
      },
      {
       "output_type": "stream",
       "stream": "stdout",
       "text": [
        "\r",
        "_zcta510_500k.zip    89%[==================>   ]  57.74M  1.82MB/s   eta 4s    "
       ]
      },
      {
       "output_type": "stream",
       "stream": "stdout",
       "text": [
        "\r",
        "zcta510_500k.zip     90%[==================>   ]  58.10M  1.81MB/s   eta 4s    "
       ]
      },
      {
       "output_type": "stream",
       "stream": "stdout",
       "text": [
        "\r",
        "cta510_500k.zip      90%[==================>   ]  58.47M  1.82MB/s   eta 3s    "
       ]
      },
      {
       "output_type": "stream",
       "stream": "stdout",
       "text": [
        "\r",
        "ta510_500k.zip       91%[===================>  ]  58.83M  1.81MB/s   eta 3s    "
       ]
      },
      {
       "output_type": "stream",
       "stream": "stdout",
       "text": [
        "\r",
        "a510_500k.zip        91%[===================>  ]  59.20M  1.81MB/s   eta 3s    "
       ]
      },
      {
       "output_type": "stream",
       "stream": "stdout",
       "text": [
        "\r",
        "510_500k.zip         92%[===================>  ]  59.56M  1.82MB/s   eta 3s    "
       ]
      },
      {
       "output_type": "stream",
       "stream": "stdout",
       "text": [
        "\r",
        "10_500k.zip          93%[===================>  ]  59.93M  1.82MB/s   eta 3s    "
       ]
      },
      {
       "output_type": "stream",
       "stream": "stdout",
       "text": [
        "\r",
        "0_500k.zip           93%[===================>  ]  60.29M  1.82MB/s   eta 2s    "
       ]
      },
      {
       "output_type": "stream",
       "stream": "stdout",
       "text": [
        "\r",
        "_500k.zip            94%[===================>  ]  60.66M  1.82MB/s   eta 2s    "
       ]
      },
      {
       "output_type": "stream",
       "stream": "stdout",
       "text": [
        "\r",
        "500k.zip             94%[===================>  ]  61.02M  1.82MB/s   eta 2s    "
       ]
      },
      {
       "output_type": "stream",
       "stream": "stdout",
       "text": [
        "\r",
        "00k.zip              95%[===================>  ]  61.38M  1.82MB/s   eta 2s    "
       ]
      },
      {
       "output_type": "stream",
       "stream": "stdout",
       "text": [
        "\r",
        "0k.zip               95%[====================> ]  61.75M  1.82MB/s   eta 2s    "
       ]
      },
      {
       "output_type": "stream",
       "stream": "stdout",
       "text": [
        "\r",
        "k.zip                96%[====================> ]  62.11M  1.82MB/s   eta 1s    "
       ]
      },
      {
       "output_type": "stream",
       "stream": "stdout",
       "text": [
        "\r",
        ".zip                 96%[====================> ]  62.48M  1.81MB/s   eta 1s    "
       ]
      },
      {
       "output_type": "stream",
       "stream": "stdout",
       "text": [
        "\r",
        "zip                  97%[====================> ]  62.84M  1.82MB/s   eta 1s    "
       ]
      },
      {
       "output_type": "stream",
       "stream": "stdout",
       "text": [
        "\r",
        "ip                   98%[====================> ]  63.20M  1.82MB/s   eta 1s    "
       ]
      },
      {
       "output_type": "stream",
       "stream": "stdout",
       "text": [
        "\r",
        "p                    98%[====================> ]  63.57M  1.82MB/s   eta 1s    "
       ]
      },
      {
       "output_type": "stream",
       "stream": "stdout",
       "text": [
        "\r",
        "                     99%[====================> ]  63.93M  1.82MB/s   eta 0s    "
       ]
      },
      {
       "output_type": "stream",
       "stream": "stdout",
       "text": [
        "\r",
        "                  c  99%[====================> ]  64.29M  1.82MB/s   eta 0s    "
       ]
      },
      {
       "output_type": "stream",
       "stream": "stdout",
       "text": [
        "\r",
        "cb_2014_us_zcta510_ 100%[=====================>]  64.43M  1.82MB/s   in 35s    \r\n",
        "\r\n",
        "2016-01-08 08:42:40 (1.82 MB/s) - 'capture/cb_2014_us_zcta510_500k.zip' saved [67558284/67558284]\r\n",
        "\r\n"
       ]
      }
     ],
     "prompt_number": 1
    },
    {
     "cell_type": "code",
     "collapsed": false,
     "input": [
      "#Unzip the file\n",
      "command = \"unzip capture/cb_2014_us_zcta510_500k.zip -d capture/cb_2014_us_zcta510_500k\"\n",
      "!$command"
     ],
     "language": "python",
     "metadata": {},
     "outputs": [
      {
       "output_type": "stream",
       "stream": "stdout",
       "text": [
        "Archive:  capture/cb_2014_us_zcta510_500k.zip\r\n",
        "  inflating: capture/cb_2014_us_zcta510_500k/cb_2014_us_zcta510_500k.shp.ea.iso.xml  \r\n",
        "  inflating: capture/cb_2014_us_zcta510_500k/cb_2014_us_zcta510_500k.shp.iso.xml  \r\n",
        "  inflating: capture/cb_2014_us_zcta510_500k/cb_2014_us_zcta510_500k.shp.xml  \r\n",
        "  inflating: capture/cb_2014_us_zcta510_500k/cb_2014_us_zcta510_500k.shp  "
       ]
      },
      {
       "output_type": "stream",
       "stream": "stdout",
       "text": [
        "\r\n",
        "  inflating: capture/cb_2014_us_zcta510_500k/cb_2014_us_zcta510_500k.shx  \r\n",
        "  inflating: capture/cb_2014_us_zcta510_500k/cb_2014_us_zcta510_500k.dbf  \r\n",
        "  inflating: capture/cb_2014_us_zcta510_500k/cb_2014_us_zcta510_500k.prj  \r\n",
        " extracting: capture/cb_2014_us_zcta510_500k/cb_2014_us_zcta510_500k.cpg  \r\n"
       ]
      }
     ],
     "prompt_number": 3
    },
    {
     "cell_type": "code",
     "collapsed": false,
     "input": [],
     "language": "python",
     "metadata": {},
     "outputs": []
    }
   ],
   "metadata": {}
  }
 ]
}